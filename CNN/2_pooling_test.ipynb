{
 "cells": [
  {
   "cell_type": "code",
   "execution_count": 16,
   "id": "4fc056bb",
   "metadata": {},
   "outputs": [],
   "source": [
    "import torch\n",
    "import matplotlib.pyplot as plt\n",
    "import numpy as np"
   ]
  },
  {
   "cell_type": "code",
   "execution_count": 28,
   "id": "7d66003a",
   "metadata": {},
   "outputs": [
    {
     "name": "stdout",
     "output_type": "stream",
     "text": [
      "(184, 415, 4)\n"
     ]
    }
   ],
   "source": [
    "#1.读取图片\n",
    "img = plt.imread(\"../data/test_image.jpg\")\n",
    "print(img.shape)"
   ]
  },
  {
   "cell_type": "code",
   "execution_count": 29,
   "id": "9c681c7e",
   "metadata": {},
   "outputs": [
    {
     "name": "stdout",
     "output_type": "stream",
     "text": [
      "torch.Size([4, 184, 415])\n"
     ]
    }
   ],
   "source": [
    "#2.转为tensor\n",
    "input = torch.tensor(img).permute(2,0,1).float()\n",
    "print(input.shape)"
   ]
  },
  {
   "cell_type": "code",
   "execution_count": 6,
   "id": "3f9e68e4",
   "metadata": {},
   "outputs": [],
   "source": [
    "#3.定义卷积层\n",
    "conv = torch.nn.Conv2d(in_channels=4, out_channels=4, kernel_size=6, stride=3, padding=0, bias=False)\n"
   ]
  },
  {
   "cell_type": "code",
   "execution_count": 30,
   "id": "2c00387f",
   "metadata": {},
   "outputs": [
    {
     "name": "stdout",
     "output_type": "stream",
     "text": [
      "torch.Size([4, 60, 137])\n"
     ]
    }
   ],
   "source": [
    "output = conv(input)\n",
    "print(output.shape)\n"
   ]
  },
  {
   "cell_type": "code",
   "execution_count": 31,
   "id": "ec9df027",
   "metadata": {},
   "outputs": [
    {
     "name": "stdout",
     "output_type": "stream",
     "text": [
      "torch.Size([4, 30, 68])\n"
     ]
    }
   ],
   "source": [
    "#4.定义池化层\n",
    "pool = torch.nn.MaxPool2d(kernel_size=2, stride=2, padding=0)\n",
    "output2 = pool(output)\n",
    "print(output2.shape)"
   ]
  }
 ],
 "metadata": {
  "kernelspec": {
   "display_name": "base",
   "language": "python",
   "name": "python3"
  },
  "language_info": {
   "codemirror_mode": {
    "name": "ipython",
    "version": 3
   },
   "file_extension": ".py",
   "mimetype": "text/x-python",
   "name": "python",
   "nbconvert_exporter": "python",
   "pygments_lexer": "ipython3",
   "version": "3.13.5"
  }
 },
 "nbformat": 4,
 "nbformat_minor": 5
}
