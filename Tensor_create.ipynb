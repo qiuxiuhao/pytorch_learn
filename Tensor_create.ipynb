{
 "cells": [
  {
   "cell_type": "code",
   "execution_count": 2,
   "id": "3ed06782",
   "metadata": {},
   "outputs": [],
   "source": [
    "import torch\n",
    "import numpy as np\n",
    "# import pytorch_learn.Tensor_create --- IGNORE ---\n"
   ]
  },
  {
   "cell_type": "markdown",
   "id": "3f3384c0",
   "metadata": {},
   "source": [
    "1.基本张量创建\n",
    "1.1按内容创建张亮"
   ]
  },
  {
   "cell_type": "code",
   "execution_count": 3,
   "id": "0a44e3b0",
   "metadata": {},
   "outputs": [
    {
     "name": "stdout",
     "output_type": "stream",
     "text": [
      "tensor([10.])\n"
     ]
    }
   ],
   "source": [
    "tensor1 = torch.tensor([10.0])\n",
    "print(tensor1)"
   ]
  },
  {
   "cell_type": "code",
   "execution_count": 4,
   "id": "e1f2c3b7",
   "metadata": {},
   "outputs": [
    {
     "name": "stdout",
     "output_type": "stream",
     "text": [
      "tensor([1., 2., 3.])\n"
     ]
    }
   ],
   "source": [
    "tensor2 = torch.tensor([1.0,2.0,3.0])\n",
    "print(tensor2)"
   ]
  },
  {
   "cell_type": "code",
   "execution_count": 5,
   "id": "5f40b340",
   "metadata": {},
   "outputs": [
    {
     "name": "stdout",
     "output_type": "stream",
     "text": [
      "tensor([[1, 2],\n",
      "        [3, 4]])\n"
     ]
    }
   ],
   "source": [
    "#传入np.ndarray\n",
    "ndarray = np.array([[1,2],[3,4]])\n",
    "tensor3 = torch.tensor(ndarray)\n",
    "print(tensor3)\n"
   ]
  },
  {
   "cell_type": "code",
   "execution_count": 6,
   "id": "ef7fd069",
   "metadata": {},
   "outputs": [
    {
     "name": "stdout",
     "output_type": "stream",
     "text": [
      "torch.Size([2, 2])\n"
     ]
    }
   ],
   "source": [
    "print(tensor3.size())"
   ]
  },
  {
   "cell_type": "markdown",
   "id": "a46e8e6f",
   "metadata": {},
   "source": [
    "1.2创建指定形状的张量"
   ]
  },
  {
   "cell_type": "code",
   "execution_count": 8,
   "id": "5178e2ea",
   "metadata": {},
   "outputs": [
    {
     "name": "stdout",
     "output_type": "stream",
     "text": [
      "torch.Size([3, 2, 4])\n",
      "tensor([[[1.3314e+05, 1.8511e-42, 0.0000e+00, 0.0000e+00],\n",
      "         [0.0000e+00, 0.0000e+00, 0.0000e+00, 0.0000e+00]],\n",
      "\n",
      "        [[0.0000e+00, 0.0000e+00, 0.0000e+00, 0.0000e+00],\n",
      "         [0.0000e+00, 0.0000e+00, 0.0000e+00, 0.0000e+00]],\n",
      "\n",
      "        [[0.0000e+00, 0.0000e+00, 0.0000e+00, 0.0000e+00],\n",
      "         [0.0000e+00, 0.0000e+00, 0.0000e+00, 0.0000e+00]]])\n",
      "torch.float32\n"
     ]
    }
   ],
   "source": [
    "tensor4 = torch.Tensor(3,2,4)\n",
    "print(tensor4.size())\n",
    "print(tensor4)\n",
    "print(tensor4.dtype)"
   ]
  },
  {
   "cell_type": "code",
   "execution_count": 9,
   "id": "131cdaed",
   "metadata": {},
   "outputs": [
    {
     "name": "stdout",
     "output_type": "stream",
     "text": [
      "torch.Size([2, 2])\n",
      "tensor([[1., 2.],\n",
      "        [3., 4.]])\n",
      "torch.float32\n"
     ]
    }
   ],
   "source": [
    "ndarray = np.array([[1,2],[3,4]])\n",
    "tensor4 = torch.Tensor(ndarray)\n",
    "print(tensor4.size())\n",
    "print(tensor4)\n",
    "print(tensor4.dtype)"
   ]
  },
  {
   "cell_type": "markdown",
   "id": "9100e2a9",
   "metadata": {},
   "source": [
    "1.3指定类型张量"
   ]
  },
  {
   "cell_type": "code",
   "execution_count": 10,
   "id": "14e8db4b",
   "metadata": {},
   "outputs": [
    {
     "name": "stdout",
     "output_type": "stream",
     "text": [
      "tensor([1, 2, 3], dtype=torch.int32)\n",
      "tensor([[1.3315e+05, 1.8511e-42, 0.0000e+00],\n",
      "        [0.0000e+00, 0.0000e+00, 0.0000e+00]])\n",
      "torch.float32\n",
      "tensor([1., 2., 3.], dtype=torch.float64)\n",
      "torch.float64\n"
     ]
    }
   ],
   "source": [
    "tensor1 = torch.IntTensor([1,2,3])\n",
    "print(tensor1)\n",
    "tensor2 = torch.FloatTensor(2,3)\n",
    "print(tensor2)\n",
    "print(tensor2.dtype)\n",
    "tensor3 = torch.tensor([1,2,3],dtype=torch.float64)\n",
    "print(tensor3)\n",
    "print(tensor3.dtype)"
   ]
  },
  {
   "cell_type": "markdown",
   "id": "aae0b875",
   "metadata": {},
   "source": [
    "1.4指定区间创建张量"
   ]
  },
  {
   "cell_type": "code",
   "execution_count": 11,
   "id": "bfbd8ec8",
   "metadata": {},
   "outputs": [
    {
     "name": "stdout",
     "output_type": "stream",
     "text": [
      "tensor([0, 2, 4, 6, 8])\n"
     ]
    }
   ],
   "source": [
    "tensor1 = torch.arange(0,10,2)\n",
    "print(tensor1)"
   ]
  },
  {
   "cell_type": "code",
   "execution_count": 14,
   "id": "d4db3d9e",
   "metadata": {},
   "outputs": [
    {
     "name": "stdout",
     "output_type": "stream",
     "text": [
      "tensor([ 10.0000,  21.2500,  32.5000,  43.7500,  55.0000,  66.2500,  77.5000,\n",
      "         88.7500, 100.0000])\n"
     ]
    }
   ],
   "source": [
    "tensor1 = torch.linspace(10,100,9)\n",
    "print(tensor1)"
   ]
  },
  {
   "cell_type": "code",
   "execution_count": 15,
   "id": "8b25da62",
   "metadata": {},
   "outputs": [
    {
     "name": "stdout",
     "output_type": "stream",
     "text": [
      "tensor([1.0240e+03, 2.4939e+06, 6.0740e+09, 1.4793e+13, 3.6029e+16, 8.7748e+19,\n",
      "        2.1371e+23, 5.2049e+26, 1.2677e+30])\n"
     ]
    }
   ],
   "source": [
    "tensor1 = torch.logspace(10,100,9,2)\n",
    "print(tensor1)"
   ]
  },
  {
   "cell_type": "markdown",
   "id": "921f0a2c",
   "metadata": {},
   "source": [
    "1.5特定值创建张量"
   ]
  },
  {
   "cell_type": "code",
   "execution_count": 17,
   "id": "e3eef491",
   "metadata": {},
   "outputs": [
    {
     "name": "stdout",
     "output_type": "stream",
     "text": [
      "tensor([[[0., 0., 0., 0.],\n",
      "         [0., 0., 0., 0.],\n",
      "         [0., 0., 0., 0.]],\n",
      "\n",
      "        [[0., 0., 0., 0.],\n",
      "         [0., 0., 0., 0.],\n",
      "         [0., 0., 0., 0.]]])\n"
     ]
    }
   ],
   "source": [
    "tensor1 = torch.zeros(2,3,4)\n",
    "print(tensor1)"
   ]
  },
  {
   "cell_type": "code",
   "execution_count": 18,
   "id": "fc802817",
   "metadata": {},
   "outputs": [
    {
     "name": "stdout",
     "output_type": "stream",
     "text": [
      "tensor([[[1., 1., 1., 1.],\n",
      "         [1., 1., 1., 1.],\n",
      "         [1., 1., 1., 1.]],\n",
      "\n",
      "        [[1., 1., 1., 1.],\n",
      "         [1., 1., 1., 1.],\n",
      "         [1., 1., 1., 1.]]])\n"
     ]
    }
   ],
   "source": [
    "tensor2 = torch.ones_like(tensor1)\n",
    "print(tensor2)"
   ]
  },
  {
   "cell_type": "code",
   "execution_count": 19,
   "id": "81f7971d",
   "metadata": {},
   "outputs": [
    {
     "name": "stdout",
     "output_type": "stream",
     "text": [
      "tensor([[[9, 9, 9, 9],\n",
      "         [9, 9, 9, 9],\n",
      "         [9, 9, 9, 9]],\n",
      "\n",
      "        [[9, 9, 9, 9],\n",
      "         [9, 9, 9, 9],\n",
      "         [9, 9, 9, 9]]])\n"
     ]
    }
   ],
   "source": [
    "tensor3 = torch.full((2,3,4),9)\n",
    "print(tensor3)"
   ]
  },
  {
   "cell_type": "code",
   "execution_count": 20,
   "id": "7c85de8b",
   "metadata": {},
   "outputs": [
    {
     "name": "stdout",
     "output_type": "stream",
     "text": [
      "tensor([[1., 0., 0., 0., 0.],\n",
      "        [0., 1., 0., 0., 0.],\n",
      "        [0., 0., 1., 0., 0.]])\n"
     ]
    }
   ],
   "source": [
    "tensor1 = torch.eye(3,5)\n",
    "print(tensor1)"
   ]
  }
 ],
 "metadata": {
  "kernelspec": {
   "display_name": "base",
   "language": "python",
   "name": "python3"
  },
  "language_info": {
   "codemirror_mode": {
    "name": "ipython",
    "version": 3
   },
   "file_extension": ".py",
   "mimetype": "text/x-python",
   "name": "python",
   "nbconvert_exporter": "python",
   "pygments_lexer": "ipython3",
   "version": "3.13.5"
  }
 },
 "nbformat": 4,
 "nbformat_minor": 5
}
